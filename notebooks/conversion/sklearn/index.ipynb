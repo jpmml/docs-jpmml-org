{
 "cells": [
  {
   "cell_type": "markdown",
   "id": "579ef8db-f0a1-4159-abff-919d64421eee",
   "metadata": {},
   "source": [
    "# Dataset"
   ]
  },
  {
   "cell_type": "code",
   "execution_count": null,
   "id": "d712bfc0-d687-40c9-9d72-ed9d6ecdc8e4",
   "metadata": {
    "scrolled": true
   },
   "outputs": [],
   "source": [
    "from docs_jpmml_org import fetch_bank_marketing\n",
    "\n",
    "dataset = fetch_bank_marketing()\n",
    "#print(dataset)\n",
    "\n",
    "X, y = dataset.getData()\n",
    "\n",
    "categorical_cols = dataset.getCategoricalColumns()\n",
    "continuous_cols = dataset.getContinuousColumns()\n",
    "\n",
    "#continuous_cols.remove(\"duration\")"
   ]
  },
  {
   "cell_type": "markdown",
   "id": "2c2e8232-952e-4999-b544-434a35336157",
   "metadata": {},
   "source": [
    "# Pipeline"
   ]
  },
  {
   "cell_type": "code",
   "execution_count": null,
   "id": "f076de00-3ff3-4af9-8ae6-b18264b9b4a4",
   "metadata": {},
   "outputs": [],
   "source": [
    "from sklearn.compose import ColumnTransformer\n",
    "from sklearn.feature_selection import f_classif, SelectKBest\n",
    "from sklearn.linear_model import LogisticRegression\n",
    "from sklearn.pipeline import Pipeline\n",
    "from sklearn.preprocessing import OneHotEncoder, StandardScaler\n",
    "\n",
    "import joblib\n",
    "\n",
    "# Combined feature mapper and transformer\n",
    "transformer = ColumnTransformer([\n",
    "    (\"continuous\", StandardScaler(), continuous_cols),\n",
    "    (\"categorical\", OneHotEncoder(), categorical_cols)\n",
    "], remainder = \"drop\")\n",
    "\n",
    "# Feature selector\n",
    "selector = SelectKBest(k = 20, score_func = f_classif)\n",
    "\n",
    "# Model\n",
    "classifier = LogisticRegression(class_weight = \"balanced\", random_state = 42)\n",
    "\n",
    "pipeline = Pipeline([\n",
    "    (\"transformer\", transformer),\n",
    "    (\"selector\", selector),\n",
    "    (\"classifier\", classifier)\n",
    "])\n",
    "pipeline.fit(X, y)\n",
    "\n",
    "# Serialization in joblib-flavoured Pickle data format for backup purposes\n",
    "joblib.dump(pipeline, \"Pipeline.pkl\")"
   ]
  },
  {
   "cell_type": "markdown",
   "id": "fb579081-8687-4e54-8735-df95d8330d3c",
   "metadata": {},
   "source": [
    "# Export to PMML"
   ]
  },
  {
   "cell_type": "code",
   "execution_count": null,
   "id": "76df7c12-8753-48c6-9bef-bbc9f96c6b8f",
   "metadata": {},
   "outputs": [],
   "source": [
    "from sklearn2pmml import sklearn2pmml\n",
    "\n",
    "# Conversion to PMML\n",
    "sklearn2pmml(pipeline, \"Pipeline.pmml\")"
   ]
  }
 ],
 "metadata": {
  "kernelspec": {
   "display_name": "Python 3.9",
   "language": "python",
   "name": "python39"
  },
  "language_info": {
   "codemirror_mode": {
    "name": "ipython",
    "version": 3
   },
   "file_extension": ".py",
   "mimetype": "text/x-python",
   "name": "python",
   "nbconvert_exporter": "python",
   "pygments_lexer": "ipython3",
   "version": "3.9.21"
  }
 },
 "nbformat": 4,
 "nbformat_minor": 5
}
