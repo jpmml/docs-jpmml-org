{
 "cells": [
  {
   "cell_type": "markdown",
   "id": "4cf4d5da-b835-4e37-8a46-e40fe434a6e6",
   "metadata": {},
   "source": [
    "# Dataset"
   ]
  },
  {
   "cell_type": "code",
   "execution_count": null,
   "id": "3dfae879-ff29-4a15-95f1-3bcad1281dce",
   "metadata": {},
   "outputs": [],
   "source": [
    "from docs_jpmml_org import fetch_bank_marketing\n",
    "\n",
    "dataset = fetch_bank_marketing()\n",
    "#print(dataset)\n",
    "\n",
    "X, y = dataset.getData()\n",
    "\n",
    "categorical_cols = dataset.getCategoricalColumns()\n",
    "continuous_cols = dataset.getContinuousColumns()"
   ]
  },
  {
   "cell_type": "markdown",
   "id": "e8f591f5-e79a-4519-adb8-6b3f1d7aaab8",
   "metadata": {},
   "source": [
    "# Workflow A: ordinal encoding\n",
    "\n",
    "Recommended for NumPy data."
   ]
  },
  {
   "cell_type": "code",
   "execution_count": null,
   "id": "b015a795-0bc7-45d6-8b39-348b4e1da793",
   "metadata": {},
   "outputs": [],
   "source": [
    "from sklearn.compose import ColumnTransformer\n",
    "from sklearn.pipeline import Pipeline\n",
    "from sklearn.preprocessing import LabelEncoder, OrdinalEncoder\n",
    "from xgboost import XGBClassifier\n",
    "\n",
    "transformer = ColumnTransformer([\n",
    "    (\"continuous\", \"passthrough\", continuous_cols),\n",
    "    (\"categorical\", OrdinalEncoder(), categorical_cols)\n",
    "])\n",
    "\n",
    "feature_types = [\"q\"] * len(continuous_cols) + [\"c\"] * len(categorical_cols)\n",
    "\n",
    "le = LabelEncoder()\n",
    "y_xgb = le.fit_transform(y).reshape((-1, ))\n",
    "\n",
    "classifier = XGBClassifier(feature_types = feature_types, random_state = 42)\n",
    "classifier._le = le\n",
    "\n",
    "pipeline = Pipeline([\n",
    "    (\"transformer\", transformer),\n",
    "    (\"classifier\", classifier)\n",
    "])\n",
    "pipeline.fit(X, y_xgb)"
   ]
  },
  {
   "cell_type": "markdown",
   "id": "fd559732-42f9-4be4-a6f0-7bb30deba26d",
   "metadata": {},
   "source": [
    "# Workflow B: casting\n",
    "\n",
    "Recommended for Pandas data."
   ]
  },
  {
   "cell_type": "code",
   "execution_count": null,
   "id": "56c277ba-d96b-4ffe-aec2-0af121e324f2",
   "metadata": {},
   "outputs": [],
   "source": [
    "from sklearn.compose import ColumnTransformer\n",
    "from sklearn.pipeline import Pipeline\n",
    "from sklearn.preprocessing import LabelEncoder\n",
    "from sklearn2pmml.preprocessing import CastTransformer\n",
    "from xgboost import XGBClassifier\n",
    "\n",
    "import numpy\n",
    "\n",
    "transformer = ColumnTransformer(\n",
    "    [(\"continuous\", CastTransformer(dtype = numpy.float32), continuous_cols)] +\n",
    "    [(categorical_col, CastTransformer(dtype = \"category\"), [categorical_col]) for categorical_col in categorical_cols]\n",
    ")\n",
    "transformer.set_output(transform = \"pandas\")\n",
    "\n",
    "le = LabelEncoder()\n",
    "y_xgb = le.fit_transform(y).reshape((-1, ))\n",
    "\n",
    "classifier = XGBClassifier(enable_categorical = True, random_state = 42)\n",
    "classifier._le = le\n",
    "\n",
    "pipeline = Pipeline([\n",
    "    (\"transformer\", transformer),\n",
    "    (\"classifier\", classifier)\n",
    "])\n",
    "pipeline.fit(X, y_xgb)"
   ]
  },
  {
   "cell_type": "markdown",
   "id": "8d9c4fc7-2db3-4297-ba91-9d19e9e60f24",
   "metadata": {},
   "source": [
    "# Export to PMML"
   ]
  },
  {
   "cell_type": "code",
   "execution_count": null,
   "id": "f6ac281b-9edd-47e6-8842-4f226cc12bee",
   "metadata": {},
   "outputs": [],
   "source": [
    "from sklearn2pmml import sklearn2pmml\n",
    "\n",
    "sklearn2pmml(pipeline, \"XGBoostPipeline.pmml\")"
   ]
  }
 ],
 "metadata": {
  "kernelspec": {
   "display_name": "Python 3 (ipykernel)",
   "language": "python",
   "name": "python3"
  },
  "language_info": {
   "codemirror_mode": {
    "name": "ipython",
    "version": 3
   },
   "file_extension": ".py",
   "mimetype": "text/x-python",
   "name": "python",
   "nbconvert_exporter": "python",
   "pygments_lexer": "ipython3",
   "version": "3.13.3"
  }
 },
 "nbformat": 4,
 "nbformat_minor": 5
}
