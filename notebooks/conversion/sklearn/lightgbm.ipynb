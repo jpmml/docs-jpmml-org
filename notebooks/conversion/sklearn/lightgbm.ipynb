{
 "cells": [
  {
   "cell_type": "markdown",
   "id": "2ff2a7e5-5029-4c99-b97e-c42fe19d2874",
   "metadata": {},
   "source": [
    "# Dataset"
   ]
  },
  {
   "cell_type": "code",
   "execution_count": null,
   "id": "780ec3d0-712e-4daa-93bd-d6c52066833b",
   "metadata": {},
   "outputs": [],
   "source": [
    "from docs_jpmml_org import fetch_bank_marketing\n",
    "\n",
    "dataset = fetch_bank_marketing()\n",
    "#print(dataset)\n",
    "\n",
    "X, y = dataset.getData()\n",
    "\n",
    "categorical_cols = dataset.getCategoricalColumns()\n",
    "continuous_cols = dataset.getContinuousColumns()"
   ]
  },
  {
   "cell_type": "markdown",
   "id": "1231e1b4-7de3-4879-a158-4b0abbcbf13f",
   "metadata": {},
   "source": [
    "# Workflow"
   ]
  },
  {
   "cell_type": "markdown",
   "id": "0b07e96b-9580-4886-b952-11170a1e969a",
   "metadata": {},
   "source": [
    "## Option A: ordinal encoding\n",
    "\n",
    "Recommended for NumPy data."
   ]
  },
  {
   "cell_type": "code",
   "execution_count": null,
   "id": "52dac25b-d146-44fb-bdb7-e4c2ded1ac13",
   "metadata": {},
   "outputs": [],
   "source": [
    "from lightgbm import LGBMClassifier\n",
    "from sklearn.compose import ColumnTransformer\n",
    "from sklearn.pipeline import Pipeline\n",
    "from sklearn.preprocessing import OrdinalEncoder\n",
    "\n",
    "transformer = ColumnTransformer([\n",
    "    (\"continuous\", \"passthrough\", continuous_cols),\n",
    "    (\"categorical\", OrdinalEncoder(), categorical_cols)\n",
    "])\n",
    "\n",
    "# Identify categorical columns by index\n",
    "#categorical_feature = [len(continuous_cols) + categorical_idx for categorical_idx in range(0, len(categorical_cols))]\n",
    "\n",
    "# Identify categorical_columns by name\n",
    "feature_name = continuous_cols + categorical_cols\n",
    "categorical_feature = categorical_cols\n",
    "\n",
    "classifier = LGBMClassifier(random_state = 42)\n",
    "\n",
    "pipeline = Pipeline([\n",
    "    (\"transformer\", transformer),\n",
    "    (\"classifier\", classifier)\n",
    "])\n",
    "#pipeline.fit(X, y, classifier__categorical_feature = categorical_feature)\n",
    "pipeline.fit(X, y, classifier__feature_name = feature_name, classifier__categorical_feature = categorical_feature)"
   ]
  },
  {
   "cell_type": "markdown",
   "id": "ae39ced8-02d2-4241-b43d-3bd53798c208",
   "metadata": {},
   "source": [
    "## Option B: casting\n",
    "\n",
    "Recommended for Pandas data."
   ]
  },
  {
   "cell_type": "code",
   "execution_count": null,
   "id": "00ea643e-83f1-477b-a1a5-07f8e59da6e5",
   "metadata": {},
   "outputs": [],
   "source": [
    "from lightgbm import LGBMClassifier\n",
    "from sklearn.compose import ColumnTransformer\n",
    "from sklearn.pipeline import Pipeline\n",
    "from sklearn2pmml.preprocessing import CastTransformer\n",
    "\n",
    "transformer = ColumnTransformer(\n",
    "    [(\"continuous\", \"passthrough\", continuous_cols)] +\n",
    "    [(categorical_col, CastTransformer(\"category\"), [categorical_col]) for categorical_col in categorical_cols]\n",
    ")\n",
    "transformer.set_output(transform = \"pandas\")\n",
    "\n",
    "classifier = LGBMClassifier(random_state = 42)\n",
    "\n",
    "pipeline = Pipeline([\n",
    "    (\"transformer\", transformer),\n",
    "    (\"classifier\", classifier)\n",
    "])\n",
    "pipeline.fit(X, y)"
   ]
  },
  {
   "cell_type": "markdown",
   "id": "9eb6f976-f0ea-4cb1-b2d6-c48fd36e99c7",
   "metadata": {},
   "source": [
    "# Export to PMML"
   ]
  },
  {
   "cell_type": "code",
   "execution_count": null,
   "id": "d7856e14-3c1b-43f8-9c2c-64ce1fbe975b",
   "metadata": {},
   "outputs": [],
   "source": [
    "classifier.booster_.save_model(\"Booster.txt\")"
   ]
  },
  {
   "cell_type": "code",
   "execution_count": null,
   "id": "caeed8ea-a059-45f7-a6c7-626b9390d778",
   "metadata": {},
   "outputs": [],
   "source": [
    "from sklearn2pmml import sklearn2pmml\n",
    "\n",
    "sklearn2pmml(pipeline, \"LightGBMPipeline.pmml\")"
   ]
  }
 ],
 "metadata": {
  "kernelspec": {
   "display_name": "Python 3 (ipykernel)",
   "language": "python",
   "name": "python3"
  },
  "language_info": {
   "codemirror_mode": {
    "name": "ipython",
    "version": 3
   },
   "file_extension": ".py",
   "mimetype": "text/x-python",
   "name": "python",
   "nbconvert_exporter": "python",
   "pygments_lexer": "ipython3",
   "version": "3.13.3"
  }
 },
 "nbformat": 4,
 "nbformat_minor": 5
}
