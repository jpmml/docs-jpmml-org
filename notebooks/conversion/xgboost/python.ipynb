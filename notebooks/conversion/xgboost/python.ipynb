{
 "cells": [
  {
   "cell_type": "code",
   "execution_count": null,
   "id": "2036a3ab-0ad8-4d55-9ea9-f58b3b1ea880",
   "metadata": {},
   "outputs": [],
   "source": [
    "from docs_jpmml_org import fetch_bank_marketing\n",
    "\n",
    "dataset = fetch_bank_marketing()\n",
    "#print(dataset)\n",
    "\n",
    "X, y = dataset.getData()\n",
    "\n",
    "y = y[\"y\"]\n",
    "\n",
    "categorical_cols = dataset.getCategoricalColumns()\n",
    "continuous_cols = dataset.getContinuousColumns()"
   ]
  },
  {
   "cell_type": "code",
   "execution_count": null,
   "id": "bc3c71aa-e24e-44e0-84ce-6ec2a6136c0f",
   "metadata": {},
   "outputs": [],
   "source": [
    "from pandas import CategoricalDtype\n",
    "from xgboost import DMatrix\n",
    "\n",
    "import xgboost\n",
    "\n",
    "X = X[continuous_cols + categorical_cols]\n",
    "\n",
    "X[continuous_cols] = X[continuous_cols].astype(\"Float32\")\n",
    "X[categorical_cols] = X[categorical_cols].astype(\"category\")\n",
    "\n",
    "y = y.astype(CategoricalDtype(categories = [\"no\", \"yes\"]))\n",
    "\n",
    "feature_types = [\"q\"] * len(continuous_cols) + [\"c\"] * len(categorical_cols)\n",
    "\n",
    "dmat = DMatrix(data = X, label = y.cat.codes, feature_types = feature_types, enable_categorical = True)\n",
    "\n",
    "booster = xgboost.train(params = {\"objective\" : \"binary:logistic\"}, dtrain = dmat)\n",
    "#print(booster)\n",
    "\n",
    "booster.save_model(\"Booster.json\")"
   ]
  },
  {
   "cell_type": "code",
   "execution_count": null,
   "id": "ed544612-4c95-4ab5-9626-f4451cb67ef7",
   "metadata": {},
   "outputs": [],
   "source": [
    "from sklearn2pmml import sklearn2pmml\n",
    "from sklearn2pmml.xgboost import make_feature_map\n",
    "\n",
    "fmap = make_feature_map(X, category_to_indicator = True)\n",
    "fmap.save(\"Booster.fmap.tsv\")\n",
    "\n",
    "booster.fmap = fmap\n",
    "\n",
    "sklearn2pmml(booster, \"Booster.pmml\")"
   ]
  }
 ],
 "metadata": {
  "kernelspec": {
   "display_name": "Python 3.9",
   "language": "python",
   "name": "python39"
  },
  "language_info": {
   "codemirror_mode": {
    "name": "ipython",
    "version": 3
   },
   "file_extension": ".py",
   "mimetype": "text/x-python",
   "name": "python",
   "nbconvert_exporter": "python",
   "pygments_lexer": "ipython3",
   "version": "3.9.21"
  }
 },
 "nbformat": 4,
 "nbformat_minor": 5
}
